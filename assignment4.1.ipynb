{
 "cells": [
  {
   "cell_type": "markdown",
   "id": "e45e236c-3d31-4bdf-8be0-129573ae4258",
   "metadata": {},
   "source": [
    "Q1, Create a vehicle class with an init method having instance variables as name_of_vehicle, max_speed\n",
    "and average_of_vehicle."
   ]
  },
  {
   "cell_type": "code",
   "execution_count": 21,
   "id": "f9f416ec-a19f-48a7-8e00-e99c05cee6c8",
   "metadata": {},
   "outputs": [],
   "source": [
    "class vehicle:\n",
    "    def __init__(self,name_of_vehicle, max_speed, average_of_vehicle):\n",
    "        self.name_of_vehicle=name_of_vehicle\n",
    "        self.max_speed=max_speed\n",
    "        self.average_of_vehicle=average_of_vehicle\n",
    "         \n",
    "    "
   ]
  },
  {
   "cell_type": "code",
   "execution_count": 28,
   "id": "e57acee4-7917-4e7a-9add-fd5a537973d6",
   "metadata": {},
   "outputs": [],
   "source": [
    "xuv=vehicle(\"mahindra\",225,100)"
   ]
  },
  {
   "cell_type": "code",
   "execution_count": 29,
   "id": "86796aed-2523-4125-97fa-309e99d3a446",
   "metadata": {},
   "outputs": [
    {
     "data": {
      "text/plain": [
       "'mahindra'"
      ]
     },
     "execution_count": 29,
     "metadata": {},
     "output_type": "execute_result"
    }
   ],
   "source": [
    "xuv.name_of_vehicle"
   ]
  },
  {
   "cell_type": "code",
   "execution_count": 30,
   "id": "015144cf-dbbe-478c-9bf5-cca52c0fd20f",
   "metadata": {},
   "outputs": [
    {
     "data": {
      "text/plain": [
       "225"
      ]
     },
     "execution_count": 30,
     "metadata": {},
     "output_type": "execute_result"
    }
   ],
   "source": [
    "xuv.max_speed"
   ]
  },
  {
   "cell_type": "code",
   "execution_count": 31,
   "id": "d1c09d50-5a7a-4881-8f75-0113fc40f392",
   "metadata": {},
   "outputs": [
    {
     "data": {
      "text/plain": [
       "100"
      ]
     },
     "execution_count": 31,
     "metadata": {},
     "output_type": "execute_result"
    }
   ],
   "source": [
    "xuv.average_of_vehicle"
   ]
  },
  {
   "cell_type": "markdown",
   "id": "a6f07581-e69f-4648-8b98-f68893305093",
   "metadata": {},
   "source": [
    "Q2. Create a child class car from the vehicle class created in Que 1, which will inherit the vehicle class.\n",
    "Create a method named seating_capacity which takes capacity as an argument and returns the name of\n",
    "the vehicle and its seating capacity."
   ]
  },
  {
   "cell_type": "code",
   "execution_count": 34,
   "id": "305c2592-175a-4461-be58-6836b943c8ac",
   "metadata": {},
   "outputs": [],
   "source": [
    "class car(vehicle):\n",
    "    def __init__(self,seating_capacity ):\n",
    "        self.seating_capacity=seating_capacity\n",
    "    def return_details(self):\n",
    "        return self.elf.name_of_vehicle , self.seating_capacity"
   ]
  },
  {
   "cell_type": "code",
   "execution_count": 35,
   "id": "20ee4e63-5601-445a-90f2-9f41084f70d1",
   "metadata": {},
   "outputs": [],
   "source": [
    "xuv=vehicle(\"toyota\",229,50)\n",
    "xuv=car(7)"
   ]
  },
  {
   "cell_type": "code",
   "execution_count": 36,
   "id": "98181212-bd15-49b0-a92b-53e828848193",
   "metadata": {},
   "outputs": [
    {
     "data": {
      "text/plain": [
       "7"
      ]
     },
     "execution_count": 36,
     "metadata": {},
     "output_type": "execute_result"
    }
   ],
   "source": [
    "xuv.seating_capacity"
   ]
  },
  {
   "cell_type": "markdown",
   "id": "d795e5c0-3e67-44b6-a311-87101b1cfc67",
   "metadata": {},
   "source": [
    "Q3. What is multiple inheritance? Write a python code to demonstrate multiple inheritance."
   ]
  },
  {
   "cell_type": "markdown",
   "id": "7be8ab42-d25d-4f7a-bda0-07b262939c7d",
   "metadata": {},
   "source": [
    "ANS.When a class is derived from more than one base class it is called multiple Inheritance. The derived class inherits all the features of the base case. Syntax: Class Base1: Body of the class Class Base2: Body of the class Class Derived(Base1, Base2): Body of the class."
   ]
  },
  {
   "cell_type": "code",
   "execution_count": 47,
   "id": "6d469666-46bf-4467-86d8-f0eb306e6a46",
   "metadata": {},
   "outputs": [],
   "source": [
    "class data_scince1:\n",
    "    def test1(self):\n",
    "        print(\"this is a class1\")"
   ]
  },
  {
   "cell_type": "code",
   "execution_count": 48,
   "id": "ae8b5e5c-3379-4c27-9303-b72cbf8cee68",
   "metadata": {},
   "outputs": [],
   "source": [
    "class data_science2(data_scince1):\n",
    "    def test2(self):\n",
    "        print(\"this is a class2\")"
   ]
  },
  {
   "cell_type": "code",
   "execution_count": 49,
   "id": "5d42140f-5e44-449f-ab26-73b6a877bdea",
   "metadata": {},
   "outputs": [],
   "source": [
    "class result(data_science2):\n",
    "    pass"
   ]
  },
  {
   "cell_type": "code",
   "execution_count": 56,
   "id": "dd30c73e-efd2-4c16-8bcf-f77871c17a26",
   "metadata": {},
   "outputs": [],
   "source": [
    "result=result()"
   ]
  },
  {
   "cell_type": "code",
   "execution_count": 57,
   "id": "89eb4172-50e4-42a3-8cc3-92504b7b6e8b",
   "metadata": {},
   "outputs": [
    {
     "name": "stdout",
     "output_type": "stream",
     "text": [
      "this is a class1\n"
     ]
    }
   ],
   "source": [
    "result.test1()"
   ]
  },
  {
   "cell_type": "code",
   "execution_count": 58,
   "id": "b093f074-1e11-4b2e-8c21-ff2324681836",
   "metadata": {},
   "outputs": [
    {
     "name": "stdout",
     "output_type": "stream",
     "text": [
      "this is a class2\n"
     ]
    }
   ],
   "source": [
    "result.test2()"
   ]
  },
  {
   "cell_type": "markdown",
   "id": "4086d73e-6d85-4c6f-9c29-c1a66ae3ded0",
   "metadata": {},
   "source": [
    "Q4. What are getter and setter in python? Create a class and create a getter and a setter method in this\n",
    "class."
   ]
  },
  {
   "cell_type": "markdown",
   "id": "2589e19c-4809-4807-95c8-54c0f6bf7377",
   "metadata": {},
   "source": [
    "ANS.Getter: A method that allows you to access an attribute in a given class. Setter: A method that allows you to set or mutate the value of an attribute in a class"
   ]
  },
  {
   "cell_type": "code",
   "execution_count": 59,
   "id": "2a121aa1-ab1a-428c-845e-6ba6f6ee7a80",
   "metadata": {},
   "outputs": [],
   "source": [
    "class love:\n",
    "    def __init__(self,romance,friedship):\n",
    "        self.__romance= romance\n",
    "        self.friendship=friendship\n",
    "    @property\n",
    "    def romance_exposed(self):\n",
    "        return self.__romance\n",
    "    @romance_exposed.setter\n",
    "    def romance_changed(self,prem):\n",
    "        self.__romance=prem\n",
    "        "
   ]
  },
  {
   "cell_type": "markdown",
   "id": "8a75a652-e011-4374-b095-9dbf14ae99f5",
   "metadata": {},
   "source": [
    "Q5.What is method overriding in python? Write a python code to demonstrate method overriding."
   ]
  },
  {
   "cell_type": "markdown",
   "id": "cefb1229-a1e5-4a16-a9ca-8c72a0bfb03d",
   "metadata": {},
   "source": [
    "ANS.What is Method Overriding in Python? Method overriding is a feature of object-oriented programming languages where the subclass or child class can provide the program with specific characteristics or a specific implementation process of data provided that are already defined in the parent class or superclass."
   ]
  },
  {
   "cell_type": "code",
   "execution_count": 80,
   "id": "8bd66bf3-d469-4031-a67d-3f1ae5687722",
   "metadata": {},
   "outputs": [],
   "source": [
    "import abc\n",
    "class details:\n",
    "    @abc.abstractmethod\n",
    "    def name(self):\n",
    "        pass\n",
    "    @abc.abstractmethod\n",
    "    def roll_no(self):\n",
    "        pass\n",
    "    "
   ]
  },
  {
   "cell_type": "code",
   "execution_count": 81,
   "id": "d50e10c4-acfe-43bb-8e61-62ba123ea47f",
   "metadata": {},
   "outputs": [],
   "source": [
    "class rohit(details):\n",
    "    def name(self):\n",
    "        return 'rohit'\n",
    "    def roll_no(self):\n",
    "        return 26\n",
    "    "
   ]
  },
  {
   "cell_type": "code",
   "execution_count": 82,
   "id": "2b3ff3a2-6da9-4fe9-ba46-06989e093c60",
   "metadata": {},
   "outputs": [],
   "source": [
    "student26=rohit()"
   ]
  },
  {
   "cell_type": "code",
   "execution_count": null,
   "id": "b22b25b8-383a-4ce3-b0f3-d962a1cf00f0",
   "metadata": {},
   "outputs": [],
   "source": []
  }
 ],
 "metadata": {
  "kernelspec": {
   "display_name": "Python 3 (ipykernel)",
   "language": "python",
   "name": "python3"
  },
  "language_info": {
   "codemirror_mode": {
    "name": "ipython",
    "version": 3
   },
   "file_extension": ".py",
   "mimetype": "text/x-python",
   "name": "python",
   "nbconvert_exporter": "python",
   "pygments_lexer": "ipython3",
   "version": "3.10.8"
  }
 },
 "nbformat": 4,
 "nbformat_minor": 5
}
